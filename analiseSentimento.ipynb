{
  "nbformat": 4,
  "nbformat_minor": 0,
  "metadata": {
    "colab": {
      "provenance": [],
      "authorship_tag": "ABX9TyMLUsH23lChDXTEiwTVpVkw",
      "include_colab_link": true
    },
    "kernelspec": {
      "name": "python3",
      "display_name": "Python 3"
    },
    "language_info": {
      "name": "python"
    }
  },
  "cells": [
    {
      "cell_type": "markdown",
      "metadata": {
        "id": "view-in-github",
        "colab_type": "text"
      },
      "source": [
        "<a href=\"https://colab.research.google.com/github/MatheusFranzener/API-Editora/blob/main/analiseSentimento.ipynb\" target=\"_parent\"><img src=\"https://colab.research.google.com/assets/colab-badge.svg\" alt=\"Open In Colab\"/></a>"
      ]
    },
    {
      "cell_type": "code",
      "execution_count": 12,
      "metadata": {
        "colab": {
          "base_uri": "https://localhost:8080/"
        },
        "id": "u7vQTIWGzkCY",
        "outputId": "a68df7d4-dca9-47c8-e641-00f3f71c1573"
      },
      "outputs": [
        {
          "output_type": "execute_result",
          "data": {
            "text/plain": [
              "479     Irmãs Galvão que amorzinho! Minha avó gostava ...\n",
              "291     Já tô chorando aqui com qualquer que seja o re...\n",
              "1353    O Vitor saiu eu não tô acreditando, eu tô bem ...\n",
              "275                       Mr catra é foda dmais #TheNoite\n",
              "2282             Ops. Tem Padre Fábio no #conversacombial\n",
              "Name: text, dtype: object"
            ]
          },
          "metadata": {},
          "execution_count": 12
        }
      ],
      "source": [
        "# teste commit\n",
        "import pandas as pd\n",
        "\n",
        "# bibioteca utilizada para teste de sentimento ( separa em base de teste e base de treino )\n",
        "from sklearn.model_selection import train_test_split\n",
        "\n",
        "comentarios = pd.read_csv(\"comentarios.csv\")\n",
        "\n",
        "# separando em uma base de teste e uma base de treino\n",
        "teste, treino, teste_sentimento, treino_sentimento = train_test_split(comentarios.text, comentarios.label)\n",
        "\n",
        "teste.head()\n"
      ]
    },
    {
      "cell_type": "code",
      "source": [
        "teste_sentimento.shape"
      ],
      "metadata": {
        "colab": {
          "base_uri": "https://localhost:8080/"
        },
        "id": "x--NP34m56TR",
        "outputId": "a090b0fc-8fe0-480b-9e8f-9c4fdd434b6f"
      },
      "execution_count": 10,
      "outputs": [
        {
          "output_type": "execute_result",
          "data": {
            "text/plain": [
              "(2274,)"
            ]
          },
          "metadata": {},
          "execution_count": 10
        }
      ]
    },
    {
      "cell_type": "code",
      "source": [
        "treino.shape"
      ],
      "metadata": {
        "colab": {
          "base_uri": "https://localhost:8080/"
        },
        "id": "h-jm1Ozb6N1S",
        "outputId": "83fabf13-f383-430f-c7a0-b6ba9f1fcf92"
      },
      "execution_count": 13,
      "outputs": [
        {
          "output_type": "execute_result",
          "data": {
            "text/plain": [
              "(759,)"
            ]
          },
          "metadata": {},
          "execution_count": 13
        }
      ]
    },
    {
      "cell_type": "code",
      "source": [
        "treino_sentimento.shape"
      ],
      "metadata": {
        "colab": {
          "base_uri": "https://localhost:8080/"
        },
        "id": "ALmJVDAq6Q3Z",
        "outputId": "361fc45f-9cfe-47da-aad8-be922710223e"
      },
      "execution_count": 14,
      "outputs": [
        {
          "output_type": "execute_result",
          "data": {
            "text/plain": [
              "(759,)"
            ]
          },
          "metadata": {},
          "execution_count": 14
        }
      ]
    },
    {
      "cell_type": "code",
      "source": [
        "# biblioteca utilizada para separar um texto em vetores ( vetorização )\n",
        "from sklearn.feature_extraction.text import CountVectorizer\n",
        "\n",
        "vetorizador = CountVectorizer()\n",
        "\n",
        "# transforma um bloco de texto para outro formato que poderá ser utilizado para o treinamento\n",
        "bow = vetorizador.fit_transform(treino)\n",
        "\n",
        "#\n",
        "comentarios_tratados = vetorizador.get_feature_names_out()"
      ],
      "metadata": {
        "colab": {
          "base_uri": "https://localhost:8080/"
        },
        "id": "etIFsiwl8NCJ",
        "outputId": "99550fa0-4430-480f-c589-734980ed2be9"
      },
      "execution_count": 16,
      "outputs": [
        {
          "output_type": "execute_result",
          "data": {
            "text/plain": [
              "array(['05', '10', '12', ..., 'última', 'último', 'única'], dtype=object)"
            ]
          },
          "metadata": {},
          "execution_count": 16
        }
      ]
    },
    {
      "cell_type": "code",
      "source": [
        "from sklearn.linear_model import LogisticRegression\n",
        "\n",
        "lr = LogisticRegression()\n",
        "lr.fit(treino, treino_sentimento)"
      ],
      "metadata": {
        "id": "1TlLd2qp6sla"
      },
      "execution_count": 15,
      "outputs": []
    }
  ]
}